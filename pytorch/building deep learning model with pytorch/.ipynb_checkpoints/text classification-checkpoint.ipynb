{
 "cells": [
  {
   "cell_type": "code",
   "execution_count": null,
   "metadata": {},
   "outputs": [],
   "source": [
    "# rnn to predict gender of names\n",
    "# prep -> encode -> create nn -> train -> eval -> deploy"
   ]
  },
  {
   "cell_type": "code",
   "execution_count": null,
   "metadata": {},
   "outputs": [],
   "source": [
    "import pandas as pd\n",
    "\n",
    "names_data = pd.read_csv()\n",
    "\n",
    "import random\n",
    "\n",
    "names_data = names_data.drop_duplicates(subset=['Name'], keep=random.choice(['first','last']))"
   ]
  },
  {
   "cell_type": "code",
   "execution_count": null,
   "metadata": {},
   "outputs": [],
   "source": [
    "from sklearn import preprocessing\n",
    "le = preprocessing.LabelEconder()\n",
    "names_data['Gender'] = le.fit_transform(names_data['Gender'])\n",
    "\n",
    "genders = ['Female','Male']"
   ]
  },
  {
   "cell_type": "code",
   "execution_count": null,
   "metadata": {},
   "outputs": [],
   "source": [
    "import string\n",
    "all_letters = string.ascii_letters + \".,;'\"\n",
    "n_letters = len(all_letters)"
   ]
  },
  {
   "cell_type": "code",
   "execution_count": null,
   "metadata": {},
   "outputs": [],
   "source": [
    "import torch\n",
    "def name_to_tensor(name):\n",
    "    name_in_tensor = torch.zeros(len(name), 1, n_letters)\n",
    "    for i, letter in enumerate(name):\n",
    "        name_in_tensor[i][0][all_letters.find(letter)]=1\n",
    "    return name_in_tensor"
   ]
  },
  {
   "cell_type": "code",
   "execution_count": null,
   "metadata": {},
   "outputs": [],
   "source": [
    "import torch.nn as nn\n",
    "\n",
    "class RNN(nn.Module):\n",
    "    def __init__(self, inp, hid, out):\n",
    "        super(RNN, self).__init__()\n",
    "        \n",
    "        self.hidden_size = hid\n",
    "        # first linear layer\n",
    "        self.i2h = nn.Linear(inp + hid, hid)\n",
    "        self.i2o = nn.Linear(inp + hid, out)\n",
    "        \n",
    "        self.softmax = nn.LogSoftmax(dim = 1)\n",
    "        \n",
    "    def forward(self, inp, hid):\n",
    "        combined = torch.cat((input, hidden), 1)\n",
    "        hiden = self.i2h(combined)\n",
    "        output = self.i2o(combined)\n",
    "        output = self.softmax(output)\n",
    "        \n",
    "        return output, hidden\n",
    "    \n",
    "    def initHidden(self):\n",
    "        return torch.zeros(1,self.hidden_size)\n",
    "    \n",
    "n_hidden = 148\n",
    "n_genders = len(genders)"
   ]
  },
  {
   "cell_type": "code",
   "execution_count": null,
   "metadata": {},
   "outputs": [],
   "source": [
    "rnn = RNN(n_letters,n_hidden,out = n_genders)"
   ]
  },
  {
   "cell_type": "code",
   "execution_count": null,
   "metadata": {},
   "outputs": [],
   "source": [
    "iterations = 1e6\n",
    "criterion = nn.NLLLoss()\n",
    "lr = 0.005\n",
    "\n",
    "def output_to_gender(output):\n",
    "    \n",
    "    top_n, top_index = output.topk(1)\n",
    "    pred_i = top_index[0].item()\n",
    "    pred = genders[pred_i]\n",
    "    \n",
    "    return pred"
   ]
  },
  {
   "cell_type": "code",
   "execution_count": null,
   "metadata": {},
   "outputs": [],
   "source": [
    "for iteration in range(1, iterations + 1):\n",
    "    # randomly pick a name\n",
    "    i = random.randint(0,len(names_data) - 1)\n",
    "    \n",
    "    name = names_data.iloc[i][0]\n",
    "    name_in_tensor = name_to_tensor(name)\n",
    "    \n",
    "    gender = names_data.iloc[i][1]\n",
    "    gender_in_tensor = torch.LongTensor([gender])\n",
    "    \n",
    "    hidden = rnn.initHidden()\n",
    "    rnn.zero_grad()\n",
    "    \n",
    "    # unroll rnn\n",
    "    for i in range(name_in_tensor.size()[0]):\n",
    "        # at each time step pass in current character and prev hidden output to rnn, stored in output and hidden\n",
    "        output, hidden = rnn(name_in_tensor[i],hidden)\n",
    "    \n",
    "    loss = criterion(output, gender_in_tensor)\n",
    "    loss.backward()\n",
    "    \n",
    "    for p in rnn.parameters():\n",
    "        # do optim ourselves\n",
    "        p.data.add_(-learning_rate, p.grad.data)\n",
    "    \n",
    "    # verbose\n",
    "    if iteration%5000==0:\n",
    "        pred = output_to_gender(output)\n",
    "    correct = ':)' if pred == genders[gender] else ':( (%s)' %genders[gender]\n",
    "    print ('iters- %d %d%% (%s) Name - %s Gender - %s %s' % \\\n",
    "          (iteration, iteration/iterations*100, loss.item, name, pred, correct))"
   ]
  },
  {
   "cell_type": "code",
   "execution_count": null,
   "metadata": {},
   "outputs": [],
   "source": [
    "# confusion matrix in eval classifiers\n",
    "\n",
    "n_conf = 10000\n",
    "prediction = []\n",
    "actual = []\n",
    "\n",
    "for _ in range(n_conf):\n",
    "    i = random.randint(0,len(names_data)-1)\n",
    "    \n",
    "    name = names_data.iloc[i][0]\n",
    "    name_in_tensor = name-to_tensor(name)\n",
    "    \n",
    "    gender_idx = names_daata.iloc[i][1]\n",
    "    gender_in_tensor = torch.LongTensor([gender_idx])\n",
    "    \n",
    "    hidden = rnn.initHidden()\n",
    "    \n",
    "    for j in range(name_in_tensor.size()[0]):\n",
    "        output, hidden = rnn(name_in_tensor[j], hidden)\n",
    "    \n",
    "    pred = output_to_gender(output)\n",
    "    \n",
    "    prediction.append(pred)\n",
    "    actual.append(genders[gender_idx])"
   ]
  },
  {
   "cell_type": "code",
   "execution_count": null,
   "metadata": {},
   "outputs": [],
   "source": [
    "# install pandas_ml"
   ]
  },
  {
   "cell_type": "code",
   "execution_count": null,
   "metadata": {},
   "outputs": [],
   "source": [
    "from pandas_ml import ConfusionMatrix\n",
    "import numpy as np"
   ]
  },
  {
   "cell_type": "code",
   "execution_count": null,
   "metadata": {},
   "outputs": [],
   "source": []
  },
  {
   "cell_type": "code",
   "execution_count": null,
   "metadata": {},
   "outputs": [],
   "source": [
    "np_prediction = np.array(prediction)\n",
    "np_actual= np.array(actual)"
   ]
  },
  {
   "cell_type": "code",
   "execution_count": null,
   "metadata": {},
   "outputs": [],
   "source": [
    "cm = ConfusionMatrix(np.where(np_prediction == 'Female', True, False),\n",
    "                    np.where(np_actual == 'Female', True, False))\n",
    "\n",
    "cm.plot(normalized = True)\n",
    "plt.show()"
   ]
  }
 ],
 "metadata": {
  "kernelspec": {
   "display_name": "Python 3",
   "language": "python",
   "name": "python3"
  },
  "language_info": {
   "codemirror_mode": {
    "name": "ipython",
    "version": 3
   },
   "file_extension": ".py",
   "mimetype": "text/x-python",
   "name": "python",
   "nbconvert_exporter": "python",
   "pygments_lexer": "ipython3",
   "version": "3.8.5"
  }
 },
 "nbformat": 4,
 "nbformat_minor": 4
}
