{
 "cells": [
  {
   "cell_type": "code",
   "execution_count": null,
   "metadata": {},
   "outputs": [],
   "source": [
    "import sklearn\n",
    "import pickle\n",
    "import pandas as pd\n",
    "\n",
    "from sklearn.linear_model import LogisticRegression\n",
    "from sklearn.tree import DecisionTreeClassifier\n",
    "from sklearn.svm import LinearSVB\n",
    "\n",
    "from sklearn.feature_extraction.text import TfidfVectorizer\n",
    "from sklearn.pipeline import Pipeline\n",
    "from sklearn.metrics import accuracy_score\n",
    "from sklearn.model_selection import train_test_split"
   ]
  },
  {
   "cell_type": "code",
   "execution_count": null,
   "metadata": {},
   "outputs": [],
   "source": [
    "sentiment_data = pd.read_csv\n",
    "\n",
    "x = \n",
    "y =\n",
    "\n",
    "x_train, x_test, y_train, y_test = train_test_split(x, y, test_size = 0.2)"
   ]
  },
  {
   "cell_type": "code",
   "execution_count": null,
   "metadata": {},
   "outputs": [],
   "source": [
    "tfidf = TfidfVectorizer(max_features=15)"
   ]
  },
  {
   "cell_type": "code",
   "execution_count": null,
   "metadata": {},
   "outputs": [],
   "source": [
    "logreg = LogisticRegression(solver='liblinear')\n",
    "\n",
    "clf_pipeline = Pipeline(steps=[\n",
    "    ('tfidf', tfidf),\n",
    "    ('model', logreg)\n",
    "])\n",
    "\n",
    "pipeline_model = clf_pipeline.fit(x_train,y_train)"
   ]
  },
  {
   "cell_type": "code",
   "execution_count": null,
   "metadata": {},
   "outputs": [],
   "source": [
    "y_pred = pipeline_model.predict(x_test)"
   ]
  },
  {
   "cell_type": "code",
   "execution_count": null,
   "metadata": {},
   "outputs": [],
   "source": [
    "accuracy_score = accuracy_score(y_test, y_pred)"
   ]
  },
  {
   "cell_type": "code",
   "execution_count": null,
   "metadata": {},
   "outputs": [],
   "source": [
    "pickle.dump(pipeline_model, open(filepath+'/logreg.pkl','wb'))"
   ]
  },
  {
   "cell_type": "code",
   "execution_count": null,
   "metadata": {},
   "outputs": [],
   "source": []
  },
  {
   "cell_type": "code",
   "execution_count": null,
   "metadata": {},
   "outputs": [],
   "source": [
    "tree = DecisionTreeClassifier(max_depth=10)\n",
    "\n",
    "clf_pipeline = Pipeline(steps=[\n",
    "    ('tfidf', tfidf),\n",
    "    ('model', tree)\n",
    "])\n",
    "\n",
    "pipeline_model = clf_pipeline.fit(x_train,y_train)"
   ]
  },
  {
   "cell_type": "code",
   "execution_count": null,
   "metadata": {},
   "outputs": [],
   "source": [
    "y_pred = pipeline_model.predict(x_test)"
   ]
  },
  {
   "cell_type": "code",
   "execution_count": null,
   "metadata": {},
   "outputs": [],
   "source": [
    "accuracy_score = accuracy_score(y_test, y_pred)"
   ]
  },
  {
   "cell_type": "code",
   "execution_count": null,
   "metadata": {},
   "outputs": [],
   "source": [
    "pickle.dump(pipeline_model, open(filepath+'/tree.pkl','wb'))"
   ]
  },
  {
   "cell_type": "code",
   "execution_count": null,
   "metadata": {},
   "outputs": [],
   "source": []
  },
  {
   "cell_type": "code",
   "execution_count": null,
   "metadata": {},
   "outputs": [],
   "source": [
    "svc = LinearSVC(C=1.0, max_iter = 100)\n",
    "\n",
    "clf_pipeline = Pipeline(steps=[\n",
    "    ('tfidf', tfidf),\n",
    "    ('model', svc)\n",
    "])\n",
    "\n",
    "pipeline_model = clf_pipeline.fit(x_train,y_train)"
   ]
  },
  {
   "cell_type": "code",
   "execution_count": null,
   "metadata": {},
   "outputs": [],
   "source": [
    "y_pred = pipeline_model.predict(x_test)\n",
    "accuracy_score = accuracy_score(y_test, y_pred)"
   ]
  },
  {
   "cell_type": "code",
   "execution_count": null,
   "metadata": {},
   "outputs": [],
   "source": [
    "pickle.dump(pipeline_model, open(filepath+'/svc.pkl','wb'))"
   ]
  },
  {
   "cell_type": "code",
   "execution_count": null,
   "metadata": {},
   "outputs": [],
   "source": []
  },
  {
   "cell_type": "markdown",
   "metadata": {},
   "source": [
    "# uploading to cloud storage buckets\n",
    "\n",
    "AWS lambda, google cloud functions\n",
    "\n",
    "> IAM\n",
    "> storage > browser > create bucket > \n",
    "\n",
    "> create folder > filepath > upload model files"
   ]
  },
  {
   "cell_type": "markdown",
   "metadata": {},
   "source": [
    "# deploying model to GCP\n",
    "\n",
    "> GCP > sidebar > cloud functions > create function >>> "
   ]
  },
  {
   "cell_type": "code",
   "execution_count": null,
   "metadata": {},
   "outputs": [],
   "source": [
    "import requests \n",
    "import pickle\n",
    "from google.cloud import storage\n",
    "\n",
    "def classifier(request):\n",
    "    \n",
    "    if request.method =='GET':\n",
    "        return \"welcome to classifier\"\n",
    "    \n",
    "    if request.method =='POST':\n",
    "        data = reqiest.get_json()\n",
    "        storage_client = storage.Client()\n",
    "        bucket = storage_client.get_bucket(BUCKET NAME)\n",
    "        \n",
    "        if data['model'] == ['tree']:\n",
    "            blob = bucket.blob(filepath+'/tree.pkl')\n",
    "        elif data['model'] == ['svc']:\n",
    "            blob = bucket.blob(filepath+'/svc.pkl')\n",
    "        else:\n",
    "            blob = bucket.blob(filepath+'/logreg.pkl')\n",
    "            \n",
    "        blob.download_to_filename('/tmp/model.pkl')\n",
    "        model = pickle.load(open('/tmp/model.pkl', 'rb'))\n",
    "        \n",
    "        x_data = data['x']\n",
    "        output = model.predict(x_data)\n",
    "        \n",
    "        pred_class = 'text:' + str(x_data) + '\\nPredicted class: ' + str(output)\n",
    "        \n",
    "    return pred_class"
   ]
  },
  {
   "cell_type": "markdown",
   "metadata": {},
   "source": [
    "# using deployed model\n",
    "\n",
    ">> trigger >> c/p url \n",
    "\n",
    "cmd\n",
    "\n",
    "curl -XPOST URL -H 'Content-Type': application/json' -d @test_data.json"
   ]
  },
  {
   "cell_type": "code",
   "execution_count": null,
   "metadata": {},
   "outputs": [],
   "source": []
  }
 ],
 "metadata": {
  "kernelspec": {
   "display_name": "Python 3",
   "language": "python",
   "name": "python3"
  },
  "language_info": {
   "codemirror_mode": {
    "name": "ipython",
    "version": 3
   },
   "file_extension": ".py",
   "mimetype": "text/x-python",
   "name": "python",
   "nbconvert_exporter": "python",
   "pygments_lexer": "ipython3",
   "version": "3.8.5"
  }
 },
 "nbformat": 4,
 "nbformat_minor": 4
}
