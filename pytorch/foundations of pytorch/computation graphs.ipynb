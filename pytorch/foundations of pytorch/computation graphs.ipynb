{
 "cells": [
  {
   "cell_type": "markdown",
   "metadata": {},
   "source": [
    "# building dynamic computation graphs"
   ]
  },
  {
   "cell_type": "code",
   "execution_count": null,
   "metadata": {},
   "outputs": [],
   "source": [
    "import numpy as np\n",
    "import torch\n",
    "import torch.nn as nn"
   ]
  },
  {
   "cell_type": "code",
   "execution_count": null,
   "metadata": {},
   "outputs": [],
   "source": [
    "w = torch.randn(6)\n",
    "x = torch.tensor([])\n",
    "\n",
    "b = torch.tensor(3)\n",
    "\n",
    "y = w*x + b # this is a computation graph - running = executing; stored in y tensor\n",
    "\n",
    "# w*x = intermediate result "
   ]
  },
  {
   "cell_type": "code",
   "execution_count": null,
   "metadata": {},
   "outputs": [],
   "source": [
    "w1 = torch.randn()\n",
    "w2 = torch.randn()\n",
    "w3 = torch.randn()\n",
    "\n",
    "x1 = torch.tensor([])\n",
    "x2 = torch.tensor([])\n",
    "x3 = torch.tensor([])\n",
    "\n",
    "b = torch.tensor()\n",
    "\n",
    "\n",
    "w1, w2, w3 \n",
    "\n",
    "intermediate_value = w1*x1 + w2*x2\n",
    "intermediate_value\n",
    "\n",
    "final_value = w1*x1 + w2*x2 + w3*x3\n",
    "final_value"
   ]
  },
  {
   "cell_type": "markdown",
   "metadata": {},
   "source": [
    "# visualizing neural networks using hiddenlayer"
   ]
  },
  {
   "cell_type": "code",
   "execution_count": null,
   "metadata": {},
   "outputs": [],
   "source": [
    "import hiddenlayer as hl"
   ]
  },
  {
   "cell_type": "code",
   "execution_count": null,
   "metadata": {},
   "outputs": [],
   "source": [
    "x_train = np.array()\n",
    "y_train = np.array()\n",
    "\n",
    "x_train = torch.tensor(x_train)\n",
    "y_train = torch.tensor(y_train)\n",
    "\n",
    "inp = 1\n",
    "out = 1\n",
    "hid = 100"
   ]
  },
  {
   "cell_type": "code",
   "execution_count": null,
   "metadata": {},
   "outputs": [],
   "source": [
    "model1 = torch.nn.Sequential(\n",
    "    torch.nn.Linear(inp,hid),\n",
    "    torch.nn.Linear(hid,out)\n",
    ")"
   ]
  },
  {
   "cell_type": "code",
   "execution_count": null,
   "metadata": {},
   "outputs": [],
   "source": [
    "hl.build_graph(model1, torch.zeros([10,1]))\n",
    "\n",
    "# passing in a single input allows us to view operations inside the nn layers\n",
    "hl.build_grpah(model1, torch.zeros([1]))"
   ]
  },
  {
   "cell_type": "code",
   "execution_count": null,
   "metadata": {},
   "outputs": [],
   "source": [
    "model2 = torch.nn.Sequential(\n",
    "    torch.nn.Linear(inp,hid),\n",
    "    torch.nn.Linear(hid,hid),\n",
    "    torch.nn.Sigmoid(),\n",
    "    torch.nn.Linear(hid,out)\n",
    ")"
   ]
  },
  {
   "cell_type": "code",
   "execution_count": null,
   "metadata": {},
   "outputs": [],
   "source": [
    "hl.build_graph(model2,torch.zeros([10,1]))\n",
    "\n",
    "# passing in a single input allows us to view operations inside the nn layers\n",
    "hl.build_grpah(model2, torch.zeros([1]))"
   ]
  },
  {
   "cell_type": "markdown",
   "metadata": {},
   "source": [
    "# building static computation graphs"
   ]
  },
  {
   "cell_type": "code",
   "execution_count": null,
   "metadata": {},
   "outputs": [],
   "source": [
    "# using tensorflow\n",
    "\n",
    "import tensorflow as tf"
   ]
  },
  {
   "cell_type": "code",
   "execution_count": null,
   "metadata": {},
   "outputs": [],
   "source": [
    "w = tf.Variable(6, name = 'var_w')\n",
    "x = tf.placeholder(tf.int32,shape = [3], name = 'x')\n",
    "b = tf.constant(3, name = 'const_b')\n",
    "# no initial value for a placeholder, values will be fed in when we execute computation graph"
   ]
  },
  {
   "cell_type": "code",
   "execution_count": null,
   "metadata": {},
   "outputs": [],
   "source": [
    "# calling w, y will only return details of variable but can't see the actual contents"
   ]
  },
  {
   "cell_type": "code",
   "execution_count": null,
   "metadata": {},
   "outputs": [],
   "source": [
    "# instantiate a session to establish a bridge btw client program and c++ runtime used to execute tensorflow programs\n",
    "\n",
    "init = tf.global_variables_initializer()\n",
    "\n",
    "with tf.Session( ) as sess:\n",
    "    sess.run(init)\n",
    "    y_result = sess.run(y, feed_dict = {x:[10,20,30]})\n",
    "    \n",
    "    print('wx+b = ', y_result)"
   ]
  },
  {
   "cell_type": "markdown",
   "metadata": {},
   "source": [
    "# visualizing static computation graphs"
   ]
  },
  {
   "cell_type": "code",
   "execution_count": null,
   "metadata": {},
   "outputs": [],
   "source": [
    "writer = tf.summary.FileWriter('./graphs', sess.graph)\n",
    "writer.close()"
   ]
  },
  {
   "cell_type": "code",
   "execution_count": null,
   "metadata": {},
   "outputs": [],
   "source": [
    "graph = tf.get_default_graph()\n",
    "# print(graph.get_operations())"
   ]
  },
  {
   "cell_type": "code",
   "execution_count": null,
   "metadata": {},
   "outputs": [],
   "source": [
    "# # in terminal\n",
    "\n",
    "# --tensorboard --logdir=graphs\n",
    "\n",
    "# # in browser\n",
    "# localhost:6006"
   ]
  },
  {
   "cell_type": "markdown",
   "metadata": {},
   "source": [
    "# tensorflow dynamic computation graph eager execution"
   ]
  },
  {
   "cell_type": "code",
   "execution_count": null,
   "metadata": {},
   "outputs": [],
   "source": [
    "# imperative programming env in tensorflow that evals operations immediately without building a static graph"
   ]
  },
  {
   "cell_type": "code",
   "execution_count": null,
   "metadata": {},
   "outputs": [],
   "source": [
    "import numpy as np\n",
    "import tensorflow as tf"
   ]
  },
  {
   "cell_type": "code",
   "execution_count": null,
   "metadata": {},
   "outputs": [],
   "source": [
    "tf.enable_eager_execution()\n",
    "# tf.executing_eagerly()"
   ]
  },
  {
   "cell_type": "code",
   "execution_count": null,
   "metadata": {},
   "outputs": [],
   "source": [
    "w = tf.Variable(6, name = 'var_w')\n",
    "x = tf.constant([10,10], name = 'x')\n",
    "b = tf.Variable(3, name = 'const_b')"
   ]
  },
  {
   "cell_type": "code",
   "execution_count": null,
   "metadata": {},
   "outputs": [],
   "source": [
    "y = w*x + b\n",
    "y\n",
    "print(y)\n",
    "# returns values and details"
   ]
  },
  {
   "cell_type": "code",
   "execution_count": null,
   "metadata": {},
   "outputs": [],
   "source": [
    "# can also perform numpy operations\n",
    "np_result = np.multiply(w,x)\n",
    "np_result"
   ]
  },
  {
   "cell_type": "code",
   "execution_count": null,
   "metadata": {},
   "outputs": [],
   "source": [
    "w.numpy()\n",
    "y.numpy()"
   ]
  }
 ],
 "metadata": {
  "kernelspec": {
   "display_name": "Python 3",
   "language": "python",
   "name": "python3"
  },
  "language_info": {
   "codemirror_mode": {
    "name": "ipython",
    "version": 3
   },
   "file_extension": ".py",
   "mimetype": "text/x-python",
   "name": "python",
   "nbconvert_exporter": "python",
   "pygments_lexer": "ipython3",
   "version": "3.8.5"
  }
 },
 "nbformat": 4,
 "nbformat_minor": 4
}
