{
 "cells": [
  {
   "cell_type": "code",
   "execution_count": null,
   "metadata": {},
   "outputs": [],
   "source": [
    "import torch\n",
    "import pandas as pd\n",
    "import numpy as np\n",
    "data = pd.read_csv()"
   ]
  },
  {
   "cell_type": "code",
   "execution_count": null,
   "metadata": {},
   "outputs": [],
   "source": [
    "from sklearn import preprocessing"
   ]
  },
  {
   "cell_type": "code",
   "execution_count": null,
   "metadata": {},
   "outputs": [],
   "source": [
    "data[] = preprocessing.scale(data[])"
   ]
  },
  {
   "cell_type": "code",
   "execution_count": null,
   "metadata": {},
   "outputs": [],
   "source": [
    "target = data[]"
   ]
  },
  {
   "cell_type": "code",
   "execution_count": null,
   "metadata": {},
   "outputs": [],
   "source": [
    "y.replace(to_replace = target[target>=0.80], value = int(2),inplace=True)\n",
    "y.replace(to_replace = target[target>=0.60], value = int(1),inplace=True)\n",
    "y.replace(to_replace = target[target<0.60], value = int(0),inplace=True)"
   ]
  },
  {
   "cell_type": "code",
   "execution_count": null,
   "metadata": {},
   "outputs": [],
   "source": [
    "from sklearn.model_selection import train_test_split\n",
    "x_train,y_test,y_train,y_test = train_test_split(features,target,test_size=0.2)"
   ]
  },
  {
   "cell_type": "code",
   "execution_count": null,
   "metadata": {},
   "outputs": [],
   "source": [
    "xtrain = torch.from_numpy(x_train.values).float()\n",
    "x_test = torch.from_numpy(x_test.values).float()\n",
    "\n",
    "ytrain = torch.from_numpy(y_train.values).view(1,-1)[0].long()\n",
    "ytest = torch.from_numpy(y_test.values).view(1,-1)[0].long() # view = reshape"
   ]
  },
  {
   "cell_type": "code",
   "execution_count": null,
   "metadata": {},
   "outputs": [],
   "source": [
    "import torch.nn as nn\n",
    "import torch.nn.functional as F"
   ]
  },
  {
   "cell_type": "code",
   "execution_count": null,
   "metadata": {},
   "outputs": [],
   "source": [
    "# creating custom nn layers\n",
    "input_size = xtrain.shape[1]\n",
    "output_size = len(target[''].unique())"
   ]
  },
  {
   "cell_type": "code",
   "execution_count": null,
   "metadata": {},
   "outputs": [],
   "source": [
    "class Net(nn.Module):\n",
    "    \n",
    "    def __init__(self,hidden_size,activation_fn = 'relu', apply_dropout = False):\n",
    "        super(Net,self).__init__()\n",
    "        \n",
    "        self.fc1 = nn.Linear(input_size, hidden_size)\n",
    "        self.fc2 = nn.Linear(hidden_size,hidden_size)\n",
    "        self.fc3 = nn.Linear(hidden_size, output_size)\n",
    "        \n",
    "        self.hidden_size = hidden_size\n",
    "        self.activation_fn = activation_fn\n",
    "        \n",
    "        self.dropout = None\n",
    "        if apply_dropout:\n",
    "            self.dropout = nn.Dropout(0.2)\n",
    "            \n",
    "    def forward(self, x): #foward pass\n",
    "        activation_fn = None\n",
    "        if self.activation_fn == 'sigmoid':\n",
    "            activation_fn = F.torch.sigmoid\n",
    "        elif self.activation_fn == 'tanh':\n",
    "            activation_fn = F.torch.tanh\n",
    "        elif self.activation_fn == 'relu':\n",
    "            activation_fn = F.relu\n",
    "            \n",
    "        x = activation_fn(self.fc1(x))\n",
    "        x = activation_fn(self.fc2(x))\n",
    "        \n",
    "        if self.dropout !=None:\n",
    "            x = self.dropout(x)\n",
    "            \n",
    "        x = self.fc3(x)\n",
    "        # calculates the log(softmax()) - used in conjunction with NLLloss()\n",
    "        # faster and more numerically stable than softmax\n",
    "        return F.log_softmax(x,dim = -1) \n",
    "    \n",
    "    "
   ]
  },
  {
   "cell_type": "code",
   "execution_count": null,
   "metadata": {},
   "outputs": [],
   "source": [
    "import torch.optim as optim"
   ]
  },
  {
   "cell_type": "code",
   "execution_count": null,
   "metadata": {},
   "outputs": [],
   "source": [
    "def train_and_eval(model,learn_rate=0.001):\n",
    "    epoch_data=[]\n",
    "    epochs=1001\n",
    "    \n",
    "    optimizer = optim.Adam(model.parameters(),lr=learn_rate)\n",
    "    \n",
    "    loss_fn = nn.NLLLoss()\n",
    "    \n",
    "    test_accuracy = 0.0\n",
    "    for epoch in range(1, epochs):\n",
    "        \n",
    "        optimizer.zero_grad()\n",
    "        \n",
    "        model.train()\n",
    "        ypred = model(xtrain)\n",
    "        \n",
    "        loss = loss_fn(ypred,ytrain)\n",
    "        loss.backward()\n",
    "        \n",
    "        optimizer.step()\n",
    "        \n",
    "        model.eval()\n",
    "        \n",
    "        ypred_t = model(xtest)\n",
    "        loss_test = loss_fn(ypred_t,ytest)\n",
    "        _, pred = ypred_t .data.max(1)\n",
    "        \n",
    "        test_accuracy = pred.eq(ytest.data).sum().item()/ytest.values.size\n",
    "        \n",
    "        epoch_data.append([epoch,loss.data.item(), loss_test.data.item(), test_accuracy])\n",
    "        \n",
    "        # verbose every 100\n",
    "        if epoch%100 == 0:\n",
    "            print(...)\n",
    "            \n",
    "        return {'model':model,\n",
    "               'epoch_data':epoch_data,\n",
    "               'num_epochs':num_epochs,\n",
    "               'optimizer':optimizer,\n",
    "               'loss_fn':loss_fn,\n",
    "               'test_acc':test_accuracy,\n",
    "               }"
   ]
  },
  {
   "cell_type": "code",
   "execution_count": null,
   "metadata": {},
   "outputs": [],
   "source": [
    "net = Net(hidden_size=3,activation_fn='sigmoid',apply_dropout=False)\n",
    "\n",
    "result_3_sigmoid = train_and_eval(net)"
   ]
  },
  {
   "cell_type": "code",
   "execution_count": null,
   "metadata": {},
   "outputs": [],
   "source": [
    "net = Net(hidden_size=3,activation_fn='sigmoid',apply_dropout=True)\n",
    "\n",
    "result_3_sigmoid_do = train_and_eval(net)"
   ]
  },
  {
   "cell_type": "code",
   "execution_count": null,
   "metadata": {},
   "outputs": [],
   "source": [
    "net = Net(hidden_size=50,activation_fn='tanh',apply_dropout=True)\n",
    "\n",
    "result_1000_tanh_do = train_and_eval(net)"
   ]
  }
 ],
 "metadata": {
  "kernelspec": {
   "display_name": "Python 3",
   "language": "python",
   "name": "python3"
  },
  "language_info": {
   "codemirror_mode": {
    "name": "ipython",
    "version": 3
   },
   "file_extension": ".py",
   "mimetype": "text/x-python",
   "name": "python",
   "nbconvert_exporter": "python",
   "pygments_lexer": "ipython3",
   "version": "3.8.5"
  }
 },
 "nbformat": 4,
 "nbformat_minor": 4
}
